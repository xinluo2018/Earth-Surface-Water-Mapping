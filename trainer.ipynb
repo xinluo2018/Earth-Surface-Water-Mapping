{
  "nbformat": 4,
  "nbformat_minor": 0,
  "metadata": {
    "colab": {
      "name": "trainer.ipynb",
      "provenance": [],
      "collapsed_sections": [],
      "authorship_tag": "ABX9TyPfmFknYNc4yYgM5g2O7Yc5",
      "include_colab_link": true
    },
    "kernelspec": {
      "name": "python3",
      "display_name": "Python 3"
    },
    "accelerator": "GPU"
  },
  "cells": [
    {
      "cell_type": "markdown",
      "metadata": {
        "id": "view-in-github",
        "colab_type": "text"
      },
      "source": [
        "<a href=\"https://colab.research.google.com/github/xinluo2018/Earth-surface-water-mapping/blob/master/trainer.ipynb\" target=\"_parent\"><img src=\"https://colab.research.google.com/assets/colab-badge.svg\" alt=\"Open In Colab\"/></a>"
      ]
    },
    {
      "cell_type": "code",
      "metadata": {
        "id": "iCMQ0mxfhIM5",
        "colab_type": "code",
        "colab": {}
      },
      "source": [
        "### mount on google drive\n",
        "from google.colab import drive\n",
        "drive.mount('/content/drive/')\n",
        "# go to your code directory\n",
        "import os\n",
        "os.chdir(\"/content/drive/My Drive/Colab/WaterMapping/Github_upload\")\n",
        "# !ls\n",
        "# !nvidia-smi\n"
      ],
      "execution_count": null,
      "outputs": []
    },
    {
      "cell_type": "code",
      "metadata": {
        "id": "JHILKBQB9e22",
        "colab_type": "code",
        "colab": {}
      },
      "source": [
        "try:\n",
        "    %tensorflow_version 2.x\n",
        "except Exception:\n",
        "    pass\n",
        "import tensorflow as tf\n",
        "import numpy as np\n",
        "import time\n",
        "import random\n",
        "from utils import acc_patch\n",
        "from data_loader import get_scene, get_patch\n",
        "from models import MobileNetV2, DeepLabV3Plus_improve\n"
      ],
      "execution_count": null,
      "outputs": []
    },
    {
      "cell_type": "code",
      "metadata": {
        "id": "70TDh5VgH_oX",
        "colab_type": "code",
        "colab": {}
      },
      "source": [
        "## training dataset (!!your dataset directory)\n",
        "folder_TrainScenes = '/content/drive/My Drive/Colab/WaterMapping/TrainingData/TrainingScene/' \n",
        "folder_TrainTruths = '/content/drive/My Drive/Colab/WaterMapping/TrainingData/TrainingTruth/'\n",
        "## super parameters\n",
        "PATCH_SIZE = 512\n",
        "EPOCHS = 500\n",
        "lr = 0.005   \n",
        "BATCH_SIZE = 8\n",
        "BUFFER_SIZE = 200"
      ],
      "execution_count": null,
      "outputs": []
    },
    {
      "cell_type": "code",
      "metadata": {
        "id": "tg0O_3hPpvZP",
        "colab_type": "code",
        "colab": {}
      },
      "source": [
        "# get training data\n",
        "Scenes, Truths = get_scene(folder_TrainScenes, folder_TrainTruths, PATCH_SIZE)\n",
        "TrainSet = get_patch(Scenes, Truths, BATCH_SIZE, BUFFER_SIZE)\n",
        "## model configuration\n",
        "model = DeepLabV3Plus_improve(input_shape=(512, 512, 6), base_model=MobileNetV2,   # \n",
        "                      d_feature=91, m_feature=24, l_feature=11, nclasses=2)\n",
        "model_loss = tf.keras.losses.BinaryCrossentropy()"
      ],
      "execution_count": null,
      "outputs": []
    },
    {
      "cell_type": "code",
      "metadata": {
        "id": "1Jb-UZ7QzSzO",
        "colab_type": "code",
        "colab": {}
      },
      "source": [
        "def train_step(TrainSet, lr):\n",
        "    TraAcc_OA_epoch = []\n",
        "    TraAcc_MIoU_epoch = []\n",
        "    Train_loss_epoch = []\n",
        "    model_optimizer = tf.keras.optimizers.Adam(lr)\n",
        "    for Train_Patch, Train_Truth in TrainSet:\n",
        "        with tf.GradientTape() as tape:\n",
        "            outp_TraPatch = model(Train_Patch, training=True)  # \n",
        "            outp_loss = model_loss(Train_Truth, outp_TraPatch)\n",
        "            model_gradients = tape.gradient(outp_loss, model.trainable_variables) \n",
        "            model_optimizer.apply_gradients(zip(model_gradients, model.trainable_variables))\n",
        "            Train_loss_epoch.append(outp_loss)\n",
        "            TraAcc_OA, TraAcc_MIoU = acc_patch(Train_Truth, outp_TraPatch)\n",
        "            TraAcc_OA_epoch.append(TraAcc_OA)\n",
        "            TraAcc_MIoU_epoch.append(TraAcc_MIoU)\n",
        "    Train_loss = np.mean(np.array(Train_loss_epoch))      \n",
        "    TraAcc_OA = np.mean(np.array(TraAcc_OA_epoch))\n",
        "    TraAcc_MIoU = np.mean(np.array(TraAcc_MIoU_epoch))\n",
        "    return Train_loss, TraAcc_OA, TraAcc_MIoU\n",
        "\n",
        "def train_epoch(EPOCHS):\n",
        "    Train_loss_plot = []\n",
        "    TraAcc_OA_plot = []\n",
        "    TraAcc_MIoU_plot = []\n",
        "    start = time.time()\n",
        "    for epoch in range(EPOCHS): \n",
        "        lr_new = lr*((1-epoch/EPOCHS)**0.9)\n",
        "        Train_loss_step, TraAcc_OA_step, TraAcc_MIoU_step = train_step(TrainSet, lr_new)\n",
        "        print('Epoch: {}, Train loss: {}, Train OA: {}, Train MIoU: {}, Time taken: {} sec'.format(\n",
        "            epoch + 1, Train_loss_step, TraAcc_OA_step, TraAcc_MIoU_step, time.time() - start))\n",
        "        Train_loss_plot.append(Train_loss_step)\n",
        "        TraAcc_OA_plot.append(TraAcc_OA_step)\n",
        "        TraAcc_MIoU_plot.append(TraAcc_MIoU_step)\n",
        "    return Train_loss_plot, TraAcc_OA_plot, TraAcc_MIoU_plot\n"
      ],
      "execution_count": null,
      "outputs": []
    },
    {
      "cell_type": "code",
      "metadata": {
        "id": "eiN-WpPo9Oy9",
        "colab_type": "code",
        "colab": {}
      },
      "source": [
        "####  model training and save the trained model (!!to the user's directory)\n",
        "train_epoch(EPOCHS)\n",
        "model.save('/content/drive/My Drive/Colab/WaterMapping/Github_upload/pretrained_model/pretrained_model_v1')\n"
      ],
      "execution_count": null,
      "outputs": []
    }
  ]
}