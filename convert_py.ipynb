<<<<<<< HEAD
{"nbformat":4,"nbformat_minor":0,"metadata":{"colab":{"name":"convert_py.ipynb","provenance":[],"collapsed_sections":[],"authorship_tag":"ABX9TyPPz7Q8bnMdfH/A1EfdpO/j"},"kernelspec":{"name":"python3","display_name":"Python 3"},"accelerator":"GPU"},"cells":[{"cell_type":"code","metadata":{"id":"emFtIkZm6tG9","colab_type":"code","colab":{"base_uri":"https://localhost:8080/","height":34},"executionInfo":{"status":"ok","timestamp":1596593406076,"user_tz":-480,"elapsed":871,"user":{"displayName":"Xin Luo","photoUrl":"","userId":"11076877845168992135"}},"outputId":"1469b605-c40c-4f04-bf77-de8cf4b862d9"},"source":["# mount on google drive\n","from google.colab import drive\n","drive.mount('/content/drive/')\n","# go to your work patch\n","import os\n","os.chdir(\"/content/drive/My Drive/Colab/WaterMapping/Github_upload\")\n","# !ls\n","# !nvidia-smi"],"execution_count":4,"outputs":[{"output_type":"stream","text":["Drive already mounted at /content/drive/; to attempt to forcibly remount, call drive.mount(\"/content/drive/\", force_remount=True).\n"],"name":"stdout"}]},{"cell_type":"code","metadata":{"id":"iyR573PQ6tvZ","colab_type":"code","colab":{}},"source":["## convert model.ipynb to model.py\n","try:   \n","    !jupyter nbconvert --to python utils.ipynb \n","    !jupyter nbconvert --to python data_loader.ipynb\n","    !jupyter nbconvert --to python models.ipynb\n","except: \n","    pass "],"execution_count":null,"outputs":[]}]}
=======
{
  "nbformat": 4,
  "nbformat_minor": 0,
  "metadata": {
    "colab": {
      "name": "convert_py.ipynb",
      "provenance": [],
      "collapsed_sections": [],
      "authorship_tag": "ABX9TyPPz7Q8bnMdfH/A1EfdpO/j",
      "include_colab_link": true
    },
    "kernelspec": {
      "name": "python3",
      "display_name": "Python 3"
    },
    "accelerator": "GPU"
  },
  "cells": [
    {
      "cell_type": "markdown",
      "metadata": {
        "id": "view-in-github",
        "colab_type": "text"
      },
      "source": [
        "<a href=\"https://colab.research.google.com/github/xinluo2018/Earth-surface-water-mapping/blob/master/convert_py.ipynb\" target=\"_parent\"><img src=\"https://colab.research.google.com/assets/colab-badge.svg\" alt=\"Open In Colab\"/></a>"
      ]
    },
    {
      "cell_type": "code",
      "metadata": {
        "id": "emFtIkZm6tG9",
        "colab_type": "code",
        "colab": {
          "base_uri": "https://localhost:8080/",
          "height": 34
        },
        "outputId": "1469b605-c40c-4f04-bf77-de8cf4b862d9"
      },
      "source": [
        "# mount on google drive\n",
        "from google.colab import drive\n",
        "drive.mount('/content/drive/')\n",
        "# go to your work patch\n",
        "import os\n",
        "os.chdir(\"/content/drive/My Drive/Colab/WaterMapping/Github_upload\")\n",
        "# !ls\n",
        "# !nvidia-smi"
      ],
      "execution_count": 4,
      "outputs": [
        {
          "output_type": "stream",
          "text": [
            "Drive already mounted at /content/drive/; to attempt to forcibly remount, call drive.mount(\"/content/drive/\", force_remount=True).\n"
          ],
          "name": "stdout"
        }
      ]
    },
    {
      "cell_type": "code",
      "metadata": {
        "id": "iyR573PQ6tvZ",
        "colab_type": "code",
        "colab": {
          "base_uri": "https://localhost:8080/",
          "height": 120
        },
        "outputId": "e8af147c-f0bf-4e69-cd86-4b471b1f7da4"
      },
      "source": [
        "## convert model.ipynb to model.py\n",
        "try:   \n",
        "    !jupyter nbconvert --to python utils.ipynb \n",
        "    !jupyter nbconvert --to python data_loader.ipynb\n",
        "    !jupyter nbconvert --to python models.ipynb\n",
        "except: \n",
        "    pass "
      ],
      "execution_count": 5,
      "outputs": [
        {
          "output_type": "stream",
          "text": [
            "[NbConvertApp] Converting notebook utils.ipynb to python\n",
            "[NbConvertApp] Writing 3945 bytes to utils.py\n",
            "[NbConvertApp] Converting notebook data_loader.ipynb to python\n",
            "[NbConvertApp] Writing 5750 bytes to data_loader.py\n",
            "[NbConvertApp] Converting notebook models.ipynb to python\n",
            "[NbConvertApp] Writing 8854 bytes to models.py\n"
          ],
          "name": "stdout"
        }
      ]
    }
  ]
}
>>>>>>> 3bccd5070889d10f4836669646b3da0b3e44dc98
